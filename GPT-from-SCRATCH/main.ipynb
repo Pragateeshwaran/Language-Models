{
 "cells": [
  {
   "cell_type": "code",
   "execution_count": 1,
   "metadata": {},
   "outputs": [
    {
     "name": "stdout",
     "output_type": "stream",
     "text": [
      "\n",
      "At the time when Brahmadatt\n",
      "was the ruler of Banaras, the\n",
      "Bodhisatva was employed as the\n",
      "king's procurator.\n",
      "\n",
      "The procurator's job was to\n",
      "buy the various properties and\n",
      "commodities that were required\n",
      "for state purposes. He had to be\n",
      "an expert in estimating\n"
     ]
    }
   ],
   "source": [
    "import os \n",
    "stories = ''\n",
    "data_dir = r'F:\\works\\A-important\\A-neurals\\Vortex-Language-Models\\GPT-from_SCRATCH\\Data'\n",
    "for story in os.listdir(data_dir):\n",
    "    with open(os.path.join(data_dir, story), 'r', encoding='utf-8') as file:\n",
    "        stories += file.read()\n",
    "print(stories[:256])"
   ]
  },
  {
   "cell_type": "code",
   "execution_count": 2,
   "metadata": {},
   "outputs": [
    {
     "data": {
      "text/plain": [
       "97058"
      ]
     },
     "execution_count": 2,
     "metadata": {},
     "output_type": "execute_result"
    }
   ],
   "source": [
    "len(stories)"
   ]
  },
  {
   "cell_type": "code",
   "execution_count": 3,
   "metadata": {},
   "outputs": [],
   "source": [
    "vocab = sorted(set(stories))\n",
    "itos = {i: j for i, j in enumerate(vocab)}\n",
    "stoi = {j: i for i, j in enumerate(vocab)}"
   ]
  },
  {
   "cell_type": "code",
   "execution_count": 4,
   "metadata": {},
   "outputs": [],
   "source": [
    "def encoder(s):\n",
    "    res = []\n",
    "    for i in s:\n",
    "        res.append(stoi[i])\n",
    "    return res\n",
    "\n",
    "def decoder(s):\n",
    "    res = []\n",
    "    for i in s:\n",
    "        res.append(itos[i])\n",
    "    return ''.join(res)"
   ]
  },
  {
   "cell_type": "code",
   "execution_count": 5,
   "metadata": {},
   "outputs": [
    {
     "data": {
      "text/plain": [
       "'omg'"
      ]
     },
     "execution_count": 5,
     "metadata": {},
     "output_type": "execute_result"
    }
   ],
   "source": [
    "encoder('omg')\n",
    "decoder(encoder('omg'))"
   ]
  },
  {
   "cell_type": "code",
   "execution_count": 6,
   "metadata": {},
   "outputs": [
    {
     "name": "stdout",
     "output_type": "stream",
     "text": [
      "torch.Size([97058]) torch.int64 tensor([ 0, 27, 73,  1, 73, 61, 58,  1, 73, 62, 66, 58,  1, 76, 61, 58, 67,  1,\n",
      "        28, 71, 54, 61, 66, 54, 57, 54, 73, 73,  0, 76, 54, 72,  1, 73, 61, 58,\n",
      "         1, 71, 74, 65, 58, 71,  1, 68, 59,  1, 28, 54, 67, 54, 71, 54, 72, 11,\n",
      "         1, 73, 61, 58,  0, 28, 68, 57, 61, 62, 72, 54, 73, 75, 54,  1, 76, 54,\n",
      "        72,  1, 58, 66, 69, 65, 68, 78, 58, 57,  1, 54, 72,  1, 73, 61, 58,  0,\n",
      "        64, 62, 67, 60,  6, 72,  1, 69, 71, 68]) \n",
      "At the time when Brahmadatt\n",
      "was the ruler of Banaras, the\n",
      "Bodhisatva was employed as the\n",
      "king's pro\n"
     ]
    }
   ],
   "source": [
    "import torch \n",
    "\n",
    "data = torch.tensor(encoder(stories))\n",
    "print(data.shape, data.dtype, data[:100], decoder(data[:100].tolist()))"
   ]
  },
  {
   "cell_type": "code",
   "execution_count": 7,
   "metadata": {},
   "outputs": [
    {
     "data": {
      "text/plain": [
       "87352"
      ]
     },
     "execution_count": 7,
     "metadata": {},
     "output_type": "execute_result"
    }
   ],
   "source": [
    "train_size = int(len(data) * 0.9)\n",
    "train_size"
   ]
  },
  {
   "cell_type": "code",
   "execution_count": 8,
   "metadata": {},
   "outputs": [],
   "source": [
    "train_data = data[:train_size]\n",
    "val_data = data[train_size:] "
   ]
  },
  {
   "cell_type": "code",
   "execution_count": 9,
   "metadata": {},
   "outputs": [],
   "source": [
    "batch_size = 4 \n",
    "context_lenght = 8\n",
    "torch.manual_seed(12313)\n",
    "def get_batch(split,):\n",
    "    split = train_data if split == 'train' else val_data\n",
    "    ix = torch.randint(len(data) - context_lenght, (4, ))\n",
    "    x = torch.stack([data[i : i+context_lenght] for i in ix])\n",
    "    y = torch.stack([data[i + 1 : 1+i+context_lenght] for i in ix])\n",
    "    return x, y"
   ]
  },
  {
   "cell_type": "code",
   "execution_count": 10,
   "metadata": {},
   "outputs": [
    {
     "data": {
      "text/plain": [
       "(torch.Size([4, 8]), torch.Size([4, 8]))"
      ]
     },
     "execution_count": 10,
     "metadata": {},
     "output_type": "execute_result"
    }
   ],
   "source": [
    "xb, yb = get_batch('val')\n",
    "xb.shape, yb.shape"
   ]
  },
  {
   "cell_type": "code",
   "execution_count": 11,
   "metadata": {},
   "outputs": [
    {
     "name": "stdout",
     "output_type": "stream",
     "text": [
      "when content is [11]\tthe result will be 1\n",
      "when content is [11, 1]\tthe result will be 90\n",
      "when content is [11, 1, 90]\tthe result will be 1\n",
      "when content is [11, 1, 90, 1]\tthe result will be 39\n",
      "when content is [11, 1, 90, 1, 39]\tthe result will be 68\n",
      "when content is [11, 1, 90, 1, 39, 68]\tthe result will be 73\n",
      "when content is [11, 1, 90, 1, 39, 68, 73]\tthe result will be 61\n",
      "when content is [11, 1, 90, 1, 39, 68, 73, 61]\tthe result will be 0\n",
      "when content is [74]\tthe result will be 71\n",
      "when content is [74, 71]\tthe result will be 0\n",
      "when content is [74, 71, 0]\tthe result will be 64\n",
      "when content is [74, 71, 0, 64]\tthe result will be 62\n",
      "when content is [74, 71, 0, 64, 62]\tthe result will be 73\n",
      "when content is [74, 71, 0, 64, 62, 73]\tthe result will be 61\n",
      "when content is [74, 71, 0, 64, 62, 73, 61]\tthe result will be 1\n",
      "when content is [74, 71, 0, 64, 62, 73, 61, 1]\tthe result will be 54\n",
      "when content is [57]\tthe result will be 71\n",
      "when content is [57, 71]\tthe result will be 58\n",
      "when content is [57, 71, 58]\tthe result will be 72\n",
      "when content is [57, 71, 58, 72]\tthe result will be 72\n",
      "when content is [57, 71, 58, 72, 72]\tthe result will be 1\n",
      "when content is [57, 71, 58, 72, 72, 1]\tthe result will be 54\n",
      "when content is [57, 71, 58, 72, 72, 1, 54]\tthe result will be 67\n",
      "when content is [57, 71, 58, 72, 72, 1, 54, 67]\tthe result will be 57\n",
      "when content is [55]\tthe result will be 58\n",
      "when content is [55, 58]\tthe result will be 65\n",
      "when content is [55, 58, 65]\tthe result will be 68\n",
      "when content is [55, 58, 65, 68]\tthe result will be 67\n",
      "when content is [55, 58, 65, 68, 67]\tthe result will be 60\n",
      "when content is [55, 58, 65, 68, 67, 60]\tthe result will be 58\n",
      "when content is [55, 58, 65, 68, 67, 60, 58]\tthe result will be 57\n",
      "when content is [55, 58, 65, 68, 67, 60, 58, 57]\tthe result will be 1\n"
     ]
    }
   ],
   "source": [
    "for batch in range(batch_size):\n",
    "    for context in range(context_lenght):\n",
    "        content = xb[batch, :context+1]\n",
    "        target = yb[batch, context]\n",
    "        print(f'when content is {content.tolist()}\\tthe result will be {target.tolist()}')"
   ]
  },
  {
   "cell_type": "code",
   "execution_count": 12,
   "metadata": {},
   "outputs": [],
   "source": [
    "import torch \n",
    "import torch.nn as nn\n",
    "import torch.nn.functional as F "
   ]
  },
  {
   "cell_type": "code",
   "execution_count": 13,
   "metadata": {},
   "outputs": [
    {
     "data": {
      "text/plain": [
       "tensor(4.8875, grad_fn=<NllLossBackward0>)"
      ]
     },
     "execution_count": 13,
     "metadata": {},
     "output_type": "execute_result"
    }
   ],
   "source": [
    "class BigramModel(nn.Module):  \n",
    "    def __init__(self, vocab): \n",
    "        super(BigramModel, self).__init__() \n",
    "        self.embeddings = nn.Embedding(vocab, vocab)\n",
    "    \n",
    "    def forward(self, idx, target=None): \n",
    "        logits = self.embeddings(idx) \n",
    "        B, T, C = logits.shape\n",
    "        if target is None: \n",
    "            loss = None\n",
    "        else:\n",
    "            logits = logits.view(B*T, C)\n",
    "            target = target.view(B*T)\n",
    "            loss = F.cross_entropy(logits, target)\n",
    "        return logits, loss\n",
    "    \n",
    "    def Generate(self, max_len, idx):\n",
    "        for _ in range(max_len):\n",
    "            logits, loss = self(idx)\n",
    "            logits = logits[:, -1, :]\n",
    "            prob = F.softmax(logits, dim=1)\n",
    "            idx_next = torch.multinomial(prob, num_samples=1)\n",
    "            idx = torch.cat((idx, idx_next), dim=1)\n",
    "        return idx\n",
    "model = BigramModel(len(vocab))\n",
    "logits, loss = model(xb, yb)\n",
    "loss"
   ]
  },
  {
   "cell_type": "code",
   "execution_count": 14,
   "metadata": {},
   "outputs": [
    {
     "data": {
      "text/plain": [
       "\"\\nF(p mqFHJ”™,é©w=nt3k{mPa|*dE ,I={p)MPiC«eZY;©Rs ')+jJ[)MO©_Qk»4N‘?O;”a»<:3Oy-r?!QSV«Oa&)jMr<k“4shMA0\""
      ]
     },
     "execution_count": 14,
     "metadata": {},
     "output_type": "execute_result"
    }
   ],
   "source": [
    "decoder(model.Generate(idx = torch.zeros((1, 1), dtype=torch.long), max_len=100)[0].tolist())"
   ]
  },
  {
   "cell_type": "code",
   "execution_count": 15,
   "metadata": {},
   "outputs": [],
   "source": [
    "optimizer = torch.optim.AdamW(model.parameters(), lr=1e-3)"
   ]
  },
  {
   "cell_type": "code",
   "execution_count": 16,
   "metadata": {},
   "outputs": [
    {
     "data": {
      "text/plain": [
       "8649"
      ]
     },
     "execution_count": 16,
     "metadata": {},
     "output_type": "execute_result"
    }
   ],
   "source": [
    "sum(p.numel() for p in model.parameters())"
   ]
  },
  {
   "cell_type": "code",
   "execution_count": 17,
   "metadata": {},
   "outputs": [
    {
     "name": "stdout",
     "output_type": "stream",
     "text": [
      "3.9882357120513916\n"
     ]
    }
   ],
   "source": [
    "for steps in range(1000):  \n",
    "    xb, yb = get_batch('train')\n",
    "    logits, loss = model(xb, yb)\n",
    "    optimizer.zero_grad(set_to_none=True)\n",
    "    loss.backward()\n",
    "    optimizer.step()\n",
    "\n",
    "print(loss.item())\n"
   ]
  },
  {
   "cell_type": "code",
   "execution_count": 18,
   "metadata": {},
   "outputs": [
    {
     "name": "stdout",
     "output_type": "stream",
     "text": [
      "\n",
      "\"NYHb5nb,#2b)—hz”uKjJ3)—sc,H™érc\n",
      "TR—lonlOo;n©EzDOffB.YB©R~~v tV:GDw={Hb2©Clu»o&b#u«UGrPFH!nId\n",
      "G*LTcy\n"
     ]
    }
   ],
   "source": [
    "print(decoder(model.Generate(idx = torch.zeros((1, 1), dtype=torch.long), max_len=100)[0].tolist()))"
   ]
  },
  {
   "cell_type": "code",
   "execution_count": 19,
   "metadata": {},
   "outputs": [
    {
     "name": "stdout",
     "output_type": "stream",
     "text": [
      "Tensor 1 shape: torch.Size([2, 3, 4])\n",
      "Tensor 2 shape: torch.Size([2, 4, 3])\n",
      "Result shape: torch.Size([2, 3, 3])\n"
     ]
    }
   ],
   "source": [
    "import torch\n",
    "\n",
    "# Set batch size, time steps, and channels\n",
    "b, t, c = 2, 3, 4\n",
    "\n",
    "# Create random tensors\n",
    "tensor1 = torch.randn(b, t, c)\n",
    "tensor2 = torch.randn(b, c, t)\n",
    "\n",
    "# Perform batched matrix multiplication\n",
    "result = tensor1 @ tensor2\n",
    "\n",
    "print(\"Tensor 1 shape:\", tensor1.shape)\n",
    "print(\"Tensor 2 shape:\", tensor2.shape)\n",
    "print(\"Result shape:\", result.shape)"
   ]
  },
  {
   "cell_type": "code",
   "execution_count": 20,
   "metadata": {},
   "outputs": [
    {
     "data": {
      "text/plain": [
       "torch.Size([2, 3, 4])"
      ]
     },
     "execution_count": 20,
     "metadata": {},
     "output_type": "execute_result"
    }
   ],
   "source": [
    "tensor1.shape"
   ]
  },
  {
   "cell_type": "code",
   "execution_count": 21,
   "metadata": {},
   "outputs": [
    {
     "data": {
      "text/plain": [
       "torch.Size([2, 4, 3])"
      ]
     },
     "execution_count": 21,
     "metadata": {},
     "output_type": "execute_result"
    }
   ],
   "source": [
    "tensor1.transpose(-1, -2).shape"
   ]
  },
  {
   "cell_type": "code",
   "execution_count": 22,
   "metadata": {},
   "outputs": [
    {
     "data": {
      "text/plain": [
       "torch.Size([2, 4, 3])"
      ]
     },
     "execution_count": 22,
     "metadata": {},
     "output_type": "execute_result"
    }
   ],
   "source": [
    "tensor1.transpose(-2, -1).shape"
   ]
  },
  {
   "cell_type": "code",
   "execution_count": 23,
   "metadata": {},
   "outputs": [
    {
     "data": {
      "text/plain": [
       "torch.Size([2, 4, 3])"
      ]
     },
     "execution_count": 23,
     "metadata": {},
     "output_type": "execute_result"
    }
   ],
   "source": [
    "tensor1.transpose(-2, -1).shape"
   ]
  },
  {
   "cell_type": "code",
   "execution_count": 25,
   "metadata": {},
   "outputs": [
    {
     "data": {
      "text/plain": [
       "93"
      ]
     },
     "execution_count": 25,
     "metadata": {},
     "output_type": "execute_result"
    }
   ],
   "source": [
    "len(vocab)"
   ]
  },
  {
   "cell_type": "code",
   "execution_count": 42,
   "metadata": {},
   "outputs": [
    {
     "data": {
      "text/plain": [
       "'cuda'"
      ]
     },
     "execution_count": 42,
     "metadata": {},
     "output_type": "execute_result"
    }
   ],
   "source": [
    "device = 'cuda' if torch.cuda.is_available() else 'cpu'\n",
    "device"
   ]
  },
  {
   "cell_type": "code",
   "execution_count": 43,
   "metadata": {},
   "outputs": [],
   "source": [
    "vocab_size = 93\n",
    "embedding_dimension = 100\n",
    "\n",
    "batch_size = 16\n",
    "block_size = 32\n",
    "\n",
    "num_head = 4\n",
    "\n",
    "N = 4"
   ]
  },
  {
   "cell_type": "code",
   "execution_count": 118,
   "metadata": {},
   "outputs": [],
   "source": [
    "class HEAD(nn.Module):\n",
    "    def __init__(self, head_size):\n",
    "        super().__init__()        \n",
    "        self.key = nn.Linear(embedding_dimension, head_size, bias=False)\n",
    "        self.query = nn.Linear(embedding_dimension, head_size, bias=False)\n",
    "        self.value = nn.Linear(embedding_dimension, head_size, bias=False)\n",
    "        self.register_buffer('tril', torch.tril(torch.ones(block_size, block_size)))\n",
    "    def forward(self, x):    \n",
    "        B,T,C = x.shape\n",
    "        k = self.key(x)   \n",
    "        q = self.query(x)  \n",
    "        wei = q @ k.transpose(-2,-1) * C**-0.5 # \n",
    "        wei = wei.masked_fill(self.tril[:T, :T] == 0, float('-inf')) \n",
    "        wei = F.softmax(wei, dim=-1)  \n",
    "        v = self.value(x)  \n",
    "        out = wei @ v  \n",
    "        return out\n"
   ]
  },
  {
   "cell_type": "code",
   "execution_count": 119,
   "metadata": {},
   "outputs": [],
   "source": [
    "class MULTIHEAD(nn.Module):\n",
    "    def __init__(self, num_head, head_size):\n",
    "        super().__init__()\n",
    "        self.head = nn.ModuleList([HEAD(head_size) for i in range(num_head)]) \n",
    "        self.linear = nn.Linear(embedding_dimension, embedding_dimension)\n",
    "        \n",
    "    def forward(self, x):\n",
    "        self.x = torch.cat([H(x) for H in self.head], dim= -1)\n",
    "        self.x = self.linear(self.x)\n",
    "        return self.x\n",
    "    \n",
    "    \n",
    "            \n",
    "        "
   ]
  },
  {
   "cell_type": "code",
   "execution_count": 120,
   "metadata": {},
   "outputs": [],
   "source": [
    "class FEEDFORWARD(nn.Module):\n",
    "    def __init__(self, embedding_dimension):\n",
    "        super().__init__()\n",
    "        self.layer = nn.Sequential(\n",
    "            nn.Linear(embedding_dimension, embedding_dimension*10), \n",
    "            nn.ReLU(),\n",
    "            nn.Linear(10*embedding_dimension, embedding_dimension)\n",
    "        )\n",
    "        \n",
    "    def forward(self, x):\n",
    "        return self.layer(x)"
   ]
  },
  {
   "cell_type": "code",
   "execution_count": 121,
   "metadata": {},
   "outputs": [],
   "source": [
    "class BLOCKS(nn.Module):\n",
    "    def __init__(self, embedding_dimension, num_head):\n",
    "        super().__init__()\n",
    "        self.head_size = embedding_dimension // num_head\n",
    "        self.attention_module = MULTIHEAD(num_head, self.head_size)\n",
    "        self.feed_forward_module = FEEDFORWARD(embedding_dimension)\n",
    "        self.layer_norm = nn.LayerNorm(embedding_dimension)\n",
    "    def forward(self, x):\n",
    "        # print(\"-----------------------\")\n",
    "        # print(x)\n",
    "        x = x + self.attention_module(self.layer_norm(x))\n",
    "        x = x + self.feed_forward_module(self.layer_norm(x))\n",
    "        return x"
   ]
  },
  {
   "cell_type": "code",
   "execution_count": 122,
   "metadata": {},
   "outputs": [],
   "source": [
    "\n",
    "class shell_of_GPT(nn.Module):\n",
    "    def __init__(self, vocab_size = vocab_size, embedding_dimension = embedding_dimension):\n",
    "        super().__init__()\n",
    "        self.token_embedding = nn.Embedding(vocab_size, embedding_dimension)\n",
    "        self.positional_embedding = nn.Embedding(block_size, embedding_dimension)\n",
    "        self.BLOCK = nn.Sequential(*[BLOCKS(embedding_dimension, num_head) for _ in range(N)])\n",
    "        self.layer_norm = nn.LayerNorm(embedding_dimension)\n",
    "        self.final_linear = nn.Linear(embedding_dimension, vocab_size)\n",
    "        \n",
    "    def forward(self, idx, targets=None):\n",
    "        B, T = idx.shape\n",
    "        tok_emb = self.token_embedding(idx) \n",
    "        pos_emb = self.positional_embedding(torch.arange(T, device=device)) \n",
    "        x = tok_emb + pos_emb\n",
    "        # print(\"-------------------------------------\")\n",
    "        # print(x)\n",
    "        x = self.BLOCK(x) \n",
    "        x = self.layer_norm(x)\n",
    "        logits = self.final_linear(x) \n",
    "\n",
    "        if targets is None:\n",
    "            loss = None\n",
    "        else:\n",
    "            B, T, C = logits.shape\n",
    "            logits = logits.view(B*T, C)\n",
    "            targets = targets.view(B*T)\n",
    "            loss = F.cross_entropy(logits, targets)\n",
    "\n",
    "        return logits, loss\n",
    "\n",
    "    def generate(self, idx, max_new_tokens):\n",
    "        for _ in range(max_new_tokens):\n",
    "            idx_cond = idx[:, -block_size:]\n",
    "            logits, loss = self(idx_cond)\n",
    "            logits = logits[:, -1, :] \n",
    "            probs = F.softmax(logits, dim=-1) \n",
    "            idx_next = torch.multinomial(probs, num_samples=1)\n",
    "            idx = torch.cat((idx, idx_next), dim=1)\n",
    "        return idx"
   ]
  },
  {
   "cell_type": "code",
   "execution_count": 123,
   "metadata": {},
   "outputs": [],
   "source": [
    "model = shell_of_GPT().to(device)"
   ]
  },
  {
   "cell_type": "code",
   "execution_count": 124,
   "metadata": {},
   "outputs": [
    {
     "data": {
      "text/plain": [
       "shell_of_GPT(\n",
       "  (token_embedding): Embedding(93, 100)\n",
       "  (positional_embedding): Embedding(32, 100)\n",
       "  (BLOCK): Sequential(\n",
       "    (0): BLOCKS(\n",
       "      (attention_module): MULTIHEAD(\n",
       "        (head): ModuleList(\n",
       "          (0-3): 4 x HEAD(\n",
       "            (key): Linear(in_features=100, out_features=25, bias=False)\n",
       "            (query): Linear(in_features=100, out_features=25, bias=False)\n",
       "            (value): Linear(in_features=100, out_features=25, bias=False)\n",
       "          )\n",
       "        )\n",
       "        (linear): Linear(in_features=100, out_features=100, bias=True)\n",
       "      )\n",
       "      (feed_forward_module): FEEDFORWARD(\n",
       "        (layer): Sequential(\n",
       "          (0): Linear(in_features=100, out_features=1000, bias=True)\n",
       "          (1): ReLU()\n",
       "          (2): Linear(in_features=1000, out_features=100, bias=True)\n",
       "        )\n",
       "      )\n",
       "      (layer_norm): LayerNorm((100,), eps=1e-05, elementwise_affine=True)\n",
       "    )\n",
       "    (1): BLOCKS(\n",
       "      (attention_module): MULTIHEAD(\n",
       "        (head): ModuleList(\n",
       "          (0-3): 4 x HEAD(\n",
       "            (key): Linear(in_features=100, out_features=25, bias=False)\n",
       "            (query): Linear(in_features=100, out_features=25, bias=False)\n",
       "            (value): Linear(in_features=100, out_features=25, bias=False)\n",
       "          )\n",
       "        )\n",
       "        (linear): Linear(in_features=100, out_features=100, bias=True)\n",
       "      )\n",
       "      (feed_forward_module): FEEDFORWARD(\n",
       "        (layer): Sequential(\n",
       "          (0): Linear(in_features=100, out_features=1000, bias=True)\n",
       "          (1): ReLU()\n",
       "          (2): Linear(in_features=1000, out_features=100, bias=True)\n",
       "        )\n",
       "      )\n",
       "      (layer_norm): LayerNorm((100,), eps=1e-05, elementwise_affine=True)\n",
       "    )\n",
       "    (2): BLOCKS(\n",
       "      (attention_module): MULTIHEAD(\n",
       "        (head): ModuleList(\n",
       "          (0-3): 4 x HEAD(\n",
       "            (key): Linear(in_features=100, out_features=25, bias=False)\n",
       "            (query): Linear(in_features=100, out_features=25, bias=False)\n",
       "            (value): Linear(in_features=100, out_features=25, bias=False)\n",
       "          )\n",
       "        )\n",
       "        (linear): Linear(in_features=100, out_features=100, bias=True)\n",
       "      )\n",
       "      (feed_forward_module): FEEDFORWARD(\n",
       "        (layer): Sequential(\n",
       "          (0): Linear(in_features=100, out_features=1000, bias=True)\n",
       "          (1): ReLU()\n",
       "          (2): Linear(in_features=1000, out_features=100, bias=True)\n",
       "        )\n",
       "      )\n",
       "      (layer_norm): LayerNorm((100,), eps=1e-05, elementwise_affine=True)\n",
       "    )\n",
       "    (3): BLOCKS(\n",
       "      (attention_module): MULTIHEAD(\n",
       "        (head): ModuleList(\n",
       "          (0-3): 4 x HEAD(\n",
       "            (key): Linear(in_features=100, out_features=25, bias=False)\n",
       "            (query): Linear(in_features=100, out_features=25, bias=False)\n",
       "            (value): Linear(in_features=100, out_features=25, bias=False)\n",
       "          )\n",
       "        )\n",
       "        (linear): Linear(in_features=100, out_features=100, bias=True)\n",
       "      )\n",
       "      (feed_forward_module): FEEDFORWARD(\n",
       "        (layer): Sequential(\n",
       "          (0): Linear(in_features=100, out_features=1000, bias=True)\n",
       "          (1): ReLU()\n",
       "          (2): Linear(in_features=1000, out_features=100, bias=True)\n",
       "        )\n",
       "      )\n",
       "      (layer_norm): LayerNorm((100,), eps=1e-05, elementwise_affine=True)\n",
       "    )\n",
       "  )\n",
       "  (layer_norm): LayerNorm((100,), eps=1e-05, elementwise_affine=True)\n",
       "  (final_linear): Linear(in_features=100, out_features=93, bias=True)\n",
       ")"
      ]
     },
     "execution_count": 124,
     "metadata": {},
     "output_type": "execute_result"
    }
   ],
   "source": [
    "model"
   ]
  },
  {
   "cell_type": "code",
   "execution_count": 125,
   "metadata": {},
   "outputs": [
    {
     "name": "stdout",
     "output_type": "stream",
     "text": [
      "Token embedding is on: cuda:0\n",
      "Positional embedding is on: cuda:0\n"
     ]
    }
   ],
   "source": [
    "print(f\"Token embedding is on: {model.token_embedding.weight.device}\")\n",
    "print(f\"Positional embedding is on: {model.positional_embedding.weight.device}\")"
   ]
  },
  {
   "cell_type": "code",
   "execution_count": 126,
   "metadata": {},
   "outputs": [
    {
     "data": {
      "text/plain": [
       "987693"
      ]
     },
     "execution_count": 126,
     "metadata": {},
     "output_type": "execute_result"
    }
   ],
   "source": [
    "sum([p.numel() for p in model.parameters()])"
   ]
  },
  {
   "cell_type": "code",
   "execution_count": null,
   "metadata": {},
   "outputs": [],
   "source": [
    "@torch.no_grad()\n",
    "def estimate_loss():\n",
    "    out = {}\n",
    "    model.eval()\n",
    "    for split in ['train', 'val']:\n",
    "        losses = torch.zeros(eval_iters)\n",
    "        for k in range(eval_iters):\n",
    "            X, Y = get_batch(split)\n",
    "            logits, loss = model(X, Y)\n",
    "            losses[k] = loss.item()\n",
    "        out[split] = losses.mean()\n",
    "    model.train()\n",
    "    return out"
   ]
  },
  {
   "cell_type": "code",
   "execution_count": null,
   "metadata": {},
   "outputs": [],
   "source": [
    "batch_size = 4 \n",
    "context_lenght = 8\n",
    "torch.manual_seed(12313)\n",
    "def get_batch(split,):\n",
    "    split = train_data if split == 'train' else val_data\n",
    "    ix = torch.randint(len(data) - context_lenght, (4, ))\n",
    "    x = torch.stack([data[i : i+context_lenght] for i in ix])\n",
    "    y = torch.stack([data[i + 1 : 1+i+context_lenght] for i in ix])\n",
    "    return x.to(device), y.to(device)"
   ]
  },
  {
   "cell_type": "code",
   "execution_count": 138,
   "metadata": {},
   "outputs": [
    {
     "name": "stdout",
     "output_type": "stream",
     "text": [
      "The loss at iteration 0 is: 2.7070\n",
      "The loss at iteration 100 is: 1.7681\n",
      "The loss at iteration 200 is: 1.5485\n",
      "The loss at iteration 300 is: 2.3130\n",
      "The loss at iteration 400 is: 1.7169\n",
      "The loss at iteration 500 is: 1.5802\n",
      "The loss at iteration 600 is: 1.7588\n",
      "The loss at iteration 700 is: 1.6510\n",
      "The loss at iteration 800 is: 1.7433\n",
      "The loss at iteration 900 is: 1.6863\n"
     ]
    }
   ],
   "source": [
    "learning_rate = 1e-3\n",
    "max_iters = 1000\n",
    "eval_interval = 100\n",
    "eval_iters = 200\n",
    "\n",
    "torch.manual_seed(100)\n",
    "\n",
    "optimizer = torch.optim.AdamW(model.parameters(), lr=learning_rate)\n",
    "\n",
    "for iter in range(max_iters):\n",
    "    xb, yb = get_batch('train')\n",
    "    logits, loss = model(xb, yb)\n",
    "    \n",
    "    if iter % eval_interval == 0:\n",
    "        print(f\"The loss at iteration {iter} is: {loss.item():.4f}\")\n",
    "    \n",
    "    optimizer.zero_grad(set_to_none=True)\n",
    "    loss.backward()\n",
    "    optimizer.step()"
   ]
  },
  {
   "cell_type": "code",
   "execution_count": 144,
   "metadata": {},
   "outputs": [
    {
     "name": "stdout",
     "output_type": "stream",
     "text": [
      " A\n",
      "Greatce(herede w winas t\n",
      "ad ay aret agly cofrth an anghinded\n",
      "\n",
      "tinchinth singen hined ofmen m’sty in\n",
      "ch ply e,”waredinsefut aby thineyaded ongher?” bly aly winghingh, chined wwaned ikingh y an t\n",
      "taly h ly dredengqonemesengheredededeng find ptoron was M\n",
      "m onghity bly y’ thiexchareadech, achin thane\n",
      "\n",
      "nde tof seved ouravede t w thizis on thendy fe hisal\n",
      "she ouly’ here y, mendiksthatikin In he. w\n",
      "hed roref arene\n",
      "dedearexde lexthi w heve\n",
      "chedinginghinchinghe hithuly out aind sty asedeled. d ofre my, ply anxtshin thinedenged ty theff anedese m\n",
      "ared ireneanchmen  shunofreresarted waly orede wa\n",
      "h s thale thin?\"mengaly thichis n an\n",
      "Hen. wamingingely Prengh bomerind sachesay pougedesurin\n",
      "On futy fffalatorech Eve thederis hazely y moredeaiVin sededy ffinared, the meftly any d\n",
      "ande the fouthinind alenchenese ty athine ty y en pply wad,\n",
      "\n",
      "ting knjedenireffushiffurishindd,\n",
      ". h fut arend, h,\"n s cherere sarin. nedy ave Sorof y, h w h, “1 ke orin\n",
      "tineshen,” \n",
      "shine w thisereron tin pederede th thinghan ty thinthin,\n",
      "bly w amed be tharigrid hinedm. hamenghan d fesende hind glyout ind high y. of toned dere thinggly thoutherony thiresesh,” atheu\n",
      "t ly w garevededes theduly, oungind thinedesothinened , the f nghindit parinxtade indune y fen Wh feddenib, bly ovestheyomy. min\n",
      "anglirid of Fined, of-\n",
      "C thaulevinghingh. t ofrex bld ared ared fise wairoungesed[\n",
      "t aly t anged ofled ove asasthe tarirWhinuge aviay.\n",
      "chiny,”\n",
      "moneny hthininghin d, hinoresthitangh tly w’ y s, h cededenede,”\n",
      "ule thesthay own Aof hearthened amuthe one hisse they tt Rathiredity itende, waventiny\n",
      "k hinen in hingh, ty otred ous than g is nuly youthady abyorirem ffured mp\n",
      "chary chithen, abe waged:\n",
      "edef ally s waren thithind th wamavesh, gie avin\n",
      "“Yongrent wan mes d s tanind te wede Kirugenoninsaly s anghe w. bonch hy ty thengreded, ad chicrinaspl gin in gede headuramid\n",
      "Aft th-\n",
      "s ffused fofede t hwarelly oulymed an\n",
      "y w ingede hit in ovinaly th,” n cde the arekedve honeneseshesply yourathin onAt on,\n",
      "hededaedengldded:\n",
      "y ve tha\n"
     ]
    }
   ],
   "source": [
    "\n",
    "context = torch.ones((1, 1), dtype=torch.long, device=device)\n",
    "print(decoder(model.generate(context, max_new_tokens=2000)[0].tolist()))"
   ]
  },
  {
   "cell_type": "code",
   "execution_count": 145,
   "metadata": {},
   "outputs": [],
   "source": [
    "torch.save(model, 'F:\\works\\A-important\\A-neurals\\Vortex-Language-Models\\GPT-from_SCRATCH\\model.pth')"
   ]
  },
  {
   "cell_type": "markdown",
   "metadata": {},
   "source": [
    "### Andrej's code"
   ]
  },
  {
   "cell_type": "code",
   "execution_count": null,
   "metadata": {},
   "outputs": [],
   "source": [
    "import torch\n",
    "import torch.nn as nn\n",
    "from torch.nn import functional as F\n",
    "\n",
    "# hyperparameters\n",
    "batch_size = 16 # how many independent sequences will we process in parallel?\n",
    "block_size = 32 # what is the maximum context length for predictions?\n",
    "max_iters = 5000\n",
    "eval_interval = 100\n",
    "learning_rate = 1e-3\n",
    "device = 'cuda' if torch.cuda.is_available() else 'cpu'\n",
    "eval_iters = 200\n",
    "n_embd = 64\n",
    "n_head = 4\n",
    "n_layer = 4\n",
    "dropout = 0.0\n",
    "# ------------\n",
    "\n",
    "torch.manual_seed(1337)\n",
    "\n",
    "# wget https://raw.githubusercontent.com/karpathy/char-rnn/master/data/tinyshakespeare/input.txt\n",
    "with open('input.txt', 'r', encoding='utf-8') as f:\n",
    "    text = f.read()\n",
    "\n",
    "# here are all the unique characters that occur in this text\n",
    "chars = sorted(list(set(text)))\n",
    "vocab_size = len(chars)\n",
    "# create a mapping from characters to integers\n",
    "stoi = { ch:i for i,ch in enumerate(chars) }\n",
    "itos = { i:ch for i,ch in enumerate(chars) }\n",
    "encode = lambda s: [stoi[c] for c in s] # encoder: take a string, output a list of integers\n",
    "decode = lambda l: ''.join([itos[i] for i in l]) # decoder: take a list of integers, output a string\n",
    "\n",
    "# Train and test splits\n",
    "data = torch.tensor(encode(text), dtype=torch.long)\n",
    "n = int(0.9*len(data)) # first 90% will be train, rest val\n",
    "train_data = data[:n]\n",
    "val_data = data[n:]\n",
    "\n",
    "# data loading\n",
    "def get_batch(split):\n",
    "    # generate a small batch of data of inputs x and targets y\n",
    "    data = train_data if split == 'train' else val_data\n",
    "    ix = torch.randint(len(data) - block_size, (batch_size,))\n",
    "    x = torch.stack([data[i:i+block_size] for i in ix])\n",
    "    y = torch.stack([data[i+1:i+block_size+1] for i in ix])\n",
    "    x, y = x.to(device), y.to(device)\n",
    "    return x, y\n",
    "\n",
    "@torch.no_grad()\n",
    "def estimate_loss():\n",
    "    out = {}\n",
    "    model.eval()\n",
    "    for split in ['train', 'val']:\n",
    "        losses = torch.zeros(eval_iters)\n",
    "        for k in range(eval_iters):\n",
    "            X, Y = get_batch(split)\n",
    "            logits, loss = model(X, Y)\n",
    "            losses[k] = loss.item()\n",
    "        out[split] = losses.mean()\n",
    "    model.train()\n",
    "    return out\n",
    "\n",
    "class Head(nn.Module):\n",
    "    \"\"\" one head of self-attention \"\"\"\n",
    "\n",
    "    def __init__(self, head_size):\n",
    "        super().__init__()\n",
    "        self.key = nn.Linear(n_embd, head_size, bias=False)\n",
    "        self.query = nn.Linear(n_embd, head_size, bias=False)\n",
    "        self.value = nn.Linear(n_embd, head_size, bias=False)\n",
    "        self.register_buffer('tril', torch.tril(torch.ones(block_size, block_size)))\n",
    "\n",
    "        self.dropout = nn.Dropout(dropout)\n",
    "\n",
    "    def forward(self, x):\n",
    "        B,T,C = x.shape\n",
    "        k = self.key(x)   # (B,T,C)\n",
    "        q = self.query(x) # (B,T,C)\n",
    "        # compute attention scores (\"affinities\")\n",
    "        wei = q @ k.transpose(-2,-1) * C**-0.5 # (B, T, C) @ (B, C, T) -> (B, T, T)\n",
    "        wei = wei.masked_fill(self.tril[:T, :T] == 0, float('-inf')) # (B, T, T)\n",
    "        wei = F.softmax(wei, dim=-1) # (B, T, T)\n",
    "        wei = self.dropout(wei)\n",
    "        # perform the weighted aggregation of the values\n",
    "        v = self.value(x) # (B,T,C)\n",
    "        out = wei @ v # (B, T, T) @ (B, T, C) -> (B, T, C)\n",
    "        return out\n",
    "\n",
    "class MultiHeadAttention(nn.Module):\n",
    "    \"\"\" multiple heads of self-attention in parallel \"\"\"\n",
    "\n",
    "    def __init__(self, num_heads, head_size):\n",
    "        super().__init__()\n",
    "        self.heads = nn.ModuleList([Head(head_size) for _ in range(num_heads)])\n",
    "        self.proj = nn.Linear(n_embd, n_embd)\n",
    "        self.dropout = nn.Dropout(dropout)\n",
    "\n",
    "    def forward(self, x):\n",
    "        out = torch.cat([h(x) for h in self.heads], dim=-1)\n",
    "        out = self.dropout(self.proj(out))\n",
    "        return out\n",
    "\n",
    "class FeedFoward(nn.Module):\n",
    "    \"\"\" a simple linear layer followed by a non-linearity \"\"\"\n",
    "\n",
    "    def __init__(self, n_embd):\n",
    "        super().__init__()\n",
    "        self.net = nn.Sequential(\n",
    "            nn.Linear(n_embd, 4 * n_embd),\n",
    "            nn.ReLU(),\n",
    "            nn.Linear(4 * n_embd, n_embd),\n",
    "            nn.Dropout(dropout),\n",
    "        )\n",
    "\n",
    "    def forward(self, x):\n",
    "        return self.net(x)\n",
    "\n",
    "class Block(nn.Module):\n",
    "    \"\"\" Transformer block: communication followed by computation \"\"\"\n",
    "\n",
    "    def __init__(self, n_embd, n_head):\n",
    "        # n_embd: embedding dimension, n_head: the number of heads we'd like\n",
    "        super().__init__()\n",
    "        head_size = n_embd // n_head\n",
    "        self.sa = MultiHeadAttention(n_head, head_size)\n",
    "        self.ffwd = FeedFoward(n_embd)\n",
    "        self.ln1 = nn.LayerNorm(n_embd)\n",
    "        self.ln2 = nn.LayerNorm(n_embd)\n",
    "\n",
    "    def forward(self, x):\n",
    "        x = x + self.sa(self.ln1(x))\n",
    "        x = x + self.ffwd(self.ln2(x))\n",
    "        return x\n",
    "\n",
    "# super simple bigram model\n",
    "class BigramLanguageModel(nn.Module):\n",
    "\n",
    "    def __init__(self):\n",
    "        super().__init__()\n",
    "        # each token directly reads off the logits for the next token from a lookup table\n",
    "        self.token_embedding_table = nn.Embedding(vocab_size, n_embd)\n",
    "        self.position_embedding_table = nn.Embedding(block_size, n_embd)\n",
    "        self.blocks = nn.Sequential(*[Block(n_embd, n_head=n_head) for _ in range(n_layer)])\n",
    "        self.ln_f = nn.LayerNorm(n_embd) # final layer norm\n",
    "        self.lm_head = nn.Linear(n_embd, vocab_size)\n",
    "\n",
    "    def forward(self, idx, targets=None):\n",
    "        B, T = idx.shape\n",
    "\n",
    "        # idx and targets are both (B,T) tensor of integers\n",
    "        tok_emb = self.token_embedding_table(idx) # (B,T,C)\n",
    "        pos_emb = self.position_embedding_table(torch.arange(T, device=device)) # (T,C)\n",
    "        x = tok_emb + pos_emb # (B,T,C)\n",
    "        x = self.blocks(x) # (B,T,C)\n",
    "        x = self.ln_f(x) # (B,T,C)\n",
    "        logits = self.lm_head(x) # (B,T,vocab_size)\n",
    "\n",
    "        if targets is None:\n",
    "            loss = None\n",
    "        else:\n",
    "            B, T, C = logits.shape\n",
    "            logits = logits.view(B*T, C)\n",
    "            targets = targets.view(B*T)\n",
    "            loss = F.cross_entropy(logits, targets)\n",
    "\n",
    "        return logits, loss\n",
    "\n",
    "    def generate(self, idx, max_new_tokens):\n",
    "        # idx is (B, T) array of indices in the current context\n",
    "        for _ in range(max_new_tokens):\n",
    "            # crop idx to the last block_size tokens\n",
    "            idx_cond = idx[:, -block_size:]\n",
    "            # get the predictions\n",
    "            logits, loss = self(idx_cond)\n",
    "            # focus only on the last time step\n",
    "            logits = logits[:, -1, :] # becomes (B, C)\n",
    "            # apply softmax to get probabilities\n",
    "            probs = F.softmax(logits, dim=-1) # (B, C)\n",
    "            # sample from the distribution\n",
    "            idx_next = torch.multinomial(probs, num_samples=1) # (B, 1)\n",
    "            # append sampled index to the running sequence\n",
    "            idx = torch.cat((idx, idx_next), dim=1) # (B, T+1)\n",
    "        return idx\n",
    "\n",
    "model = BigramLanguageModel()\n",
    "m = model.to(device)\n",
    "# print the number of parameters in the model\n",
    "print(sum(p.numel() for p in m.parameters())/1e6, 'M parameters')\n",
    "\n",
    "# create a PyTorch optimizer\n",
    "optimizer = torch.optim.AdamW(model.parameters(), lr=learning_rate)\n",
    "\n",
    "for iter in range(max_iters):\n",
    "\n",
    "    # every once in a while evaluate the loss on train and val sets\n",
    "    if iter % eval_interval == 0 or iter == max_iters - 1:\n",
    "        losses = estimate_loss()\n",
    "        print(f\"step {iter}: train loss {losses['train']:.4f}, val loss {losses['val']:.4f}\")\n",
    "\n",
    "    # sample a batch of data\n",
    "    xb, yb = get_batch('train')\n",
    "\n",
    "    # evaluate the loss\n",
    "    logits, loss = model(xb, yb)\n",
    "    optimizer.zero_grad(set_to_none=True)\n",
    "    loss.backward()\n",
    "    optimizer.step()\n",
    "\n",
    "# generate from the model\n",
    "context = torch.zeros((1, 1), dtype=torch.long, device=device)\n",
    "print(decode(m.generate(context, max_new_tokens=2000)[0].tolist()))\n"
   ]
  },
  {
   "cell_type": "code",
   "execution_count": null,
   "metadata": {},
   "outputs": [],
   "source": []
  },
  {
   "cell_type": "code",
   "execution_count": null,
   "metadata": {},
   "outputs": [],
   "source": []
  },
  {
   "cell_type": "code",
   "execution_count": null,
   "metadata": {},
   "outputs": [],
   "source": []
  }
 ],
 "metadata": {
  "kernelspec": {
   "display_name": "Python 3",
   "language": "python",
   "name": "python3"
  },
  "language_info": {
   "codemirror_mode": {
    "name": "ipython",
    "version": 3
   },
   "file_extension": ".py",
   "mimetype": "text/x-python",
   "name": "python",
   "nbconvert_exporter": "python",
   "pygments_lexer": "ipython3",
   "version": "3.11.9"
  }
 },
 "nbformat": 4,
 "nbformat_minor": 2
}
